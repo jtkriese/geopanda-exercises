{
 "cells": [
  {
   "cell_type": "code",
   "execution_count": 1,
   "metadata": {},
   "outputs": [
    {
     "name": "stdout",
     "output_type": "stream",
     "text": [
      "My name is Jtkriese and I give eating ice cream a score of 2 out of 10!\n",
      "I am Jtkriese and my sleeping enjoyment index is 0.5out of 1.0!\n"
     ]
    }
   ],
   "source": [
    "name = \"Jtkriese\"\n",
    "iceCreamRating = 2\n",
    "sleepingIndex = 0.5\n",
    "print(\"My name is \", name,\" and I give eating ice cream a score of \",iceCreamRating,\" out of 10!\",\"\\n\",\"I am \", name,\" and my sleeping enjoyment index is \", sleepingIndex, \"out of 1.0!\", sep =\"\")"
   ]
  },
  {
   "cell_type": "code",
   "execution_count": null,
   "metadata": {},
   "outputs": [],
   "source": []
  }
 ],
 "metadata": {
  "kernelspec": {
   "display_name": "Python 3",
   "language": "python",
   "name": "python3"
  },
  "language_info": {
   "codemirror_mode": {
    "name": "ipython",
    "version": 3
   },
   "file_extension": ".py",
   "mimetype": "text/x-python",
   "name": "python",
   "nbconvert_exporter": "python",
   "pygments_lexer": "ipython3",
   "version": "3.6.5"
  }
 },
 "nbformat": 4,
 "nbformat_minor": 2
}
